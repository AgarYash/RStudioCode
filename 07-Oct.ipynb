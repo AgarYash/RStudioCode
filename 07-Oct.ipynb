{
 "cells": [
  {
   "cell_type": "code",
   "execution_count": 1,
   "id": "ad6d765e",
   "metadata": {},
   "outputs": [
    {
     "name": "stdout",
     "output_type": "stream",
     "text": [
      "['Workout', 'in', 'Morning', 'is', 'good']\n"
     ]
    }
   ],
   "source": [
    "str=\"Workout in Morning is good\"\n",
    "print(str.split(' '))"
   ]
  },
  {
   "cell_type": "code",
   "execution_count": 4,
   "id": "a7414c82",
   "metadata": {},
   "outputs": [
    {
     "name": "stdout",
     "output_type": "stream",
     "text": [
      "s1=  ['Workout,', 'in,', 'Morning,', 'is,', 'good']\n",
      "s2= ['Workout', ' in', ' Morning', ' is', ' good']\n"
     ]
    }
   ],
   "source": [
    "str1=\"Workout, in, Morning, is, good\"\n",
    "s1=str1.split(' ')\n",
    "s2=str1.split(\",\")\n",
    "print(\"s1= \",s1)\n",
    "print(\"s2=\", s2)"
   ]
  },
  {
   "cell_type": "code",
   "execution_count": 6,
   "id": "e3624941",
   "metadata": {},
   "outputs": [
    {
     "name": "stdout",
     "output_type": "stream",
     "text": [
      "['Workout in Morning is good ', ' It keeps body fit. ', ' It also helps people healthy']\n"
     ]
    }
   ],
   "source": [
    "str=\"Workout in Morning is good \\n It keeps body fit. \\n It also helps people healthy\"\n",
    "print(str.splitlines())"
   ]
  },
  {
   "cell_type": "code",
   "execution_count": 7,
   "id": "e471f57f",
   "metadata": {},
   "outputs": [
    {
     "name": "stdout",
     "output_type": "stream",
     "text": [
      "['Workout in Morning is good ', ' It keeps body fit. ', ' It also helps people healthy']\n",
      "['Workout in Morning is good \\n', ' It keeps body fit. \\n', ' It also helps people healthy']\n",
      "['Workout in Morning is good \\n', ' It keeps body fit. \\n', ' It also helps people healthy']\n"
     ]
    }
   ],
   "source": [
    "str=\"Workout in Morning is good \\n It keeps body fit. \\n It also helps people healthy\"\n",
    "print(str.splitlines(0))\n",
    "print(str.splitlines(1))\n",
    "print(str.splitlines(2))"
   ]
  },
  {
   "cell_type": "code",
   "execution_count": 13,
   "id": "e92c6675",
   "metadata": {},
   "outputs": [
    {
     "data": {
      "text/plain": [
       "['List', 1, 'or', 1.01]"
      ]
     },
     "execution_count": 13,
     "metadata": {},
     "output_type": "execute_result"
    }
   ],
   "source": [
    "myList=[\"hi\", \"This \", \"is\", \"List\", 1, \"or\", 1.01]\n",
    "myList  \n",
    "myList[0:3]    \n",
    "myList[ :1]\n",
    "myList[ 1:4]\n",
    "myList[ 3:]"
   ]
  },
  {
   "cell_type": "code",
   "execution_count": 14,
   "id": "e8b31400",
   "metadata": {},
   "outputs": [
    {
     "data": {
      "text/plain": [
       "1.01"
      ]
     },
     "execution_count": 14,
     "metadata": {},
     "output_type": "execute_result"
    }
   ],
   "source": [
    "myList[-1]"
   ]
  },
  {
   "cell_type": "code",
   "execution_count": 17,
   "id": "5f81e103",
   "metadata": {},
   "outputs": [
    {
     "data": {
      "text/plain": [
       "[1, 'or']"
      ]
     },
     "execution_count": 17,
     "metadata": {},
     "output_type": "execute_result"
    }
   ],
   "source": [
    "myList=[\"hi\", \"This \", \"is\", \"List\", 1, \"or\", 1.01]\n",
    "myList[-3:-1]"
   ]
  },
  {
   "cell_type": "code",
   "execution_count": null,
   "id": "73802a34",
   "metadata": {},
   "outputs": [],
   "source": []
  }
 ],
 "metadata": {
  "kernelspec": {
   "display_name": "Python 3 (ipykernel)",
   "language": "python",
   "name": "python3"
  },
  "language_info": {
   "codemirror_mode": {
    "name": "ipython",
    "version": 3
   },
   "file_extension": ".py",
   "mimetype": "text/x-python",
   "name": "python",
   "nbconvert_exporter": "python",
   "pygments_lexer": "ipython3",
   "version": "3.9.6"
  }
 },
 "nbformat": 4,
 "nbformat_minor": 5
}
